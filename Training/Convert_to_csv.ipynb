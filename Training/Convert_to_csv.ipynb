{
 "cells": [
  {
   "cell_type": "code",
   "execution_count": 1,
   "metadata": {},
   "outputs": [],
   "source": [
    "import os\n",
    "path_orig = 'casia/CASIA2/Au/' #Authentic \n",
    "path_modif = 'casia/CASIA2/Tp/' #Tampered\n",
    "\n",
    "folder_orig = os.listdir()\n",
    "folder_modif = os.listdir()\n",
    "\n",
    "strings = []\n",
    "\n",
    "for file in os.listdir(path_orig):\n",
    "    if file.endswith('jpg'):\n",
    "      if int(os.stat(path_orig + file).st_size) > 10000:\n",
    "        line =  path_orig + file  + ',1\\n'\n",
    "        strings.append(line)\n",
    "\n",
    "for file in os.listdir(path_modif):\n",
    "      if file.endswith('jpg'):\n",
    "         if int(os.stat(path_modif + file).st_size) > 10000:\n",
    "            line =  path_modif + file + ',0\\n'\n",
    "            strings.append(line)\n",
    "\n",
    "for line in strings:\n",
    "      with open('casia/dataset.csv', 'a') as f:\n",
    "         f.write(line)"
   ]
  },
  {
   "cell_type": "code",
   "execution_count": 1,
   "metadata": {},
   "outputs": [
    {
     "name": "stdout",
     "output_type": "stream",
     "text": [
      "HAHA\n"
     ]
    }
   ],
   "source": [
    "print(\"HAHA\")"
   ]
  },
  {
   "cell_type": "code",
   "execution_count": 2,
   "metadata": {},
   "outputs": [
    {
     "name": "stdout",
     "output_type": "stream",
     "text": [
      "HAHA\n"
     ]
    }
   ],
   "source": [
    "print(\"HAHA\")"
   ]
  },
  {
   "cell_type": "code",
   "execution_count": null,
   "metadata": {},
   "outputs": [],
   "source": []
  },
  {
   "cell_type": "code",
   "execution_count": null,
   "metadata": {},
   "outputs": [],
   "source": []
  },
  {
   "cell_type": "code",
   "execution_count": null,
   "metadata": {},
   "outputs": [],
   "source": []
  }
 ],
 "metadata": {
  "kernelspec": {
   "display_name": "Python 3",
   "language": "python",
   "name": "python3"
  },
  "language_info": {
   "codemirror_mode": {
    "name": "ipython",
    "version": 3
   },
   "file_extension": ".py",
   "mimetype": "text/x-python",
   "name": "python",
   "nbconvert_exporter": "python",
   "pygments_lexer": "ipython3",
   "version": "3.7.4"
  }
 },
 "nbformat": 4,
 "nbformat_minor": 2
}
